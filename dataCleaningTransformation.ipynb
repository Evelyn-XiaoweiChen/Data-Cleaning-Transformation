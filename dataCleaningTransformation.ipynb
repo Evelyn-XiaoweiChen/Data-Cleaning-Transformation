{
 "cells": [
  {
   "cell_type": "code",
   "execution_count": 1,
   "metadata": {},
   "outputs": [
    {
     "name": "stdout",
     "output_type": "stream",
     "text": [
      "Requirement already satisfied: kaggle in c:\\users\\niuho\\appdata\\local\\programs\\python\\python312\\lib\\site-packages (1.6.8)\n",
      "Requirement already satisfied: six>=1.10 in c:\\users\\niuho\\appdata\\roaming\\python\\python312\\site-packages (from kaggle) (1.16.0)\n",
      "Requirement already satisfied: certifi>=2023.7.22 in c:\\users\\niuho\\appdata\\local\\programs\\python\\python312\\lib\\site-packages (from kaggle) (2024.2.2)\n",
      "Requirement already satisfied: python-dateutil in c:\\users\\niuho\\appdata\\roaming\\python\\python312\\site-packages (from kaggle) (2.9.0.post0)\n",
      "Requirement already satisfied: requests in c:\\users\\niuho\\appdata\\local\\programs\\python\\python312\\lib\\site-packages (from kaggle) (2.31.0)\n",
      "Requirement already satisfied: tqdm in c:\\users\\niuho\\appdata\\local\\programs\\python\\python312\\lib\\site-packages (from kaggle) (4.66.2)\n",
      "Requirement already satisfied: python-slugify in c:\\users\\niuho\\appdata\\local\\programs\\python\\python312\\lib\\site-packages (from kaggle) (8.0.4)\n",
      "Requirement already satisfied: urllib3 in c:\\users\\niuho\\appdata\\local\\programs\\python\\python312\\lib\\site-packages (from kaggle) (2.2.1)\n",
      "Requirement already satisfied: bleach in c:\\users\\niuho\\appdata\\local\\programs\\python\\python312\\lib\\site-packages (from kaggle) (6.1.0)\n",
      "Requirement already satisfied: webencodings in c:\\users\\niuho\\appdata\\local\\programs\\python\\python312\\lib\\site-packages (from bleach->kaggle) (0.5.1)\n",
      "Requirement already satisfied: text-unidecode>=1.3 in c:\\users\\niuho\\appdata\\local\\programs\\python\\python312\\lib\\site-packages (from python-slugify->kaggle) (1.3)\n",
      "Requirement already satisfied: charset-normalizer<4,>=2 in c:\\users\\niuho\\appdata\\local\\programs\\python\\python312\\lib\\site-packages (from requests->kaggle) (3.3.2)\n",
      "Requirement already satisfied: idna<4,>=2.5 in c:\\users\\niuho\\appdata\\local\\programs\\python\\python312\\lib\\site-packages (from requests->kaggle) (3.6)\n",
      "Requirement already satisfied: colorama in c:\\users\\niuho\\appdata\\roaming\\python\\python312\\site-packages (from tqdm->kaggle) (0.4.6)\n",
      "Note: you may need to restart the kernel to use updated packages.\n"
     ]
    }
   ],
   "source": [
    "%pip install kaggle"
   ]
  },
  {
   "cell_type": "code",
   "execution_count": 5,
   "metadata": {},
   "outputs": [
    {
     "name": "stdout",
     "output_type": "stream",
     "text": [
      "fifa-21-messy-raw-dataset-for-cleaning-exploring.zip: Skipping, found more recently modified local copy (use --force to force download)\n"
     ]
    }
   ],
   "source": [
    "# download files with kaggle API\n",
    "!kaggle datasets download -d yagunnersya/fifa-21-messy-raw-dataset-for-cleaning-exploring"
   ]
  },
  {
   "cell_type": "code",
   "execution_count": 2,
   "metadata": {},
   "outputs": [],
   "source": [
    "import pandas as pd\n",
    "import numpy as np\n",
    "import zipfile"
   ]
  },
  {
   "cell_type": "code",
   "execution_count": 11,
   "metadata": {},
   "outputs": [],
   "source": [
    "# Open the zip file\n",
    "with zipfile.ZipFile('fifa-21-messy-raw-dataset-for-cleaning-exploring.zip', 'r') as zip_ref:\n",
    "    # Extract all the contents to the extraction directory\n",
    "    zip_ref.extractall('.')"
   ]
  },
  {
   "cell_type": "code",
   "execution_count": 3,
   "metadata": {},
   "outputs": [
    {
     "name": "stderr",
     "output_type": "stream",
     "text": [
      "C:\\Users\\niuho\\AppData\\Local\\Temp\\ipykernel_9092\\2208781644.py:2: DtypeWarning: Columns (76) have mixed types. Specify dtype option on import or set low_memory=False.\n",
      "  df = pd.read_csv('fifa21_raw_data.csv')\n"
     ]
    }
   ],
   "source": [
    "# load datasets\n",
    "df = pd.read_csv('fifa21_raw_data.csv')"
   ]
  },
  {
   "cell_type": "code",
   "execution_count": 12,
   "metadata": {},
   "outputs": [
    {
     "name": "stdout",
     "output_type": "stream",
     "text": [
      "<class 'pandas.core.frame.DataFrame'>\n",
      "RangeIndex: 18979 entries, 0 to 18978\n",
      "Data columns (total 77 columns):\n",
      " #   Column            Non-Null Count  Dtype \n",
      "---  ------            --------------  ----- \n",
      " 0   photoUrl          18979 non-null  object\n",
      " 1   LongName          18979 non-null  object\n",
      " 2   playerUrl         18979 non-null  object\n",
      " 3   Nationality       18979 non-null  object\n",
      " 4   Positions         18979 non-null  object\n",
      " 5   Name              18979 non-null  object\n",
      " 6   Age               18979 non-null  int64 \n",
      " 7   ↓OVA              18979 non-null  int64 \n",
      " 8   POT               18979 non-null  int64 \n",
      " 9   Team & Contract   18979 non-null  object\n",
      " 10  ID                18979 non-null  int64 \n",
      " 11  Height            18979 non-null  object\n",
      " 12  Weight            18979 non-null  object\n",
      " 13  foot              18979 non-null  object\n",
      " 14  BOV               18979 non-null  int64 \n",
      " 15  BP                18979 non-null  object\n",
      " 16  Growth            18979 non-null  int64 \n",
      " 17  Joined            18979 non-null  object\n",
      " 18  Loan Date End     1013 non-null   object\n",
      " 19  Value             18979 non-null  object\n",
      " 20  Wage              18979 non-null  object\n",
      " 21  Release Clause    18979 non-null  object\n",
      " 22  Attacking         18979 non-null  int64 \n",
      " 23  Crossing          18979 non-null  int64 \n",
      " 24  Finishing         18979 non-null  int64 \n",
      " 25  Heading Accuracy  18979 non-null  int64 \n",
      " 26  Short Passing     18979 non-null  int64 \n",
      " 27  Volleys           18979 non-null  int64 \n",
      " 28  Skill             18979 non-null  int64 \n",
      " 29  Dribbling         18979 non-null  int64 \n",
      " 30  Curve             18979 non-null  int64 \n",
      " 31  FK Accuracy       18979 non-null  int64 \n",
      " 32  Long Passing      18979 non-null  int64 \n",
      " 33  Ball Control      18979 non-null  int64 \n",
      " 34  Movement          18979 non-null  int64 \n",
      " 35  Acceleration      18979 non-null  int64 \n",
      " 36  Sprint Speed      18979 non-null  int64 \n",
      " 37  Agility           18979 non-null  int64 \n",
      " 38  Reactions         18979 non-null  int64 \n",
      " 39  Balance           18979 non-null  int64 \n",
      " 40  Power             18979 non-null  int64 \n",
      " 41  Shot Power        18979 non-null  int64 \n",
      " 42  Jumping           18979 non-null  int64 \n",
      " 43  Stamina           18979 non-null  int64 \n",
      " 44  Strength          18979 non-null  int64 \n",
      " 45  Long Shots        18979 non-null  int64 \n",
      " 46  Mentality         18979 non-null  int64 \n",
      " 47  Aggression        18979 non-null  int64 \n",
      " 48  Interceptions     18979 non-null  int64 \n",
      " 49  Positioning       18979 non-null  int64 \n",
      " 50  Vision            18979 non-null  int64 \n",
      " 51  Penalties         18979 non-null  int64 \n",
      " 52  Composure         18979 non-null  int64 \n",
      " 53  Defending         18979 non-null  int64 \n",
      " 54  Marking           18979 non-null  int64 \n",
      " 55  Standing Tackle   18979 non-null  int64 \n",
      " 56  Sliding Tackle    18979 non-null  int64 \n",
      " 57  Goalkeeping       18979 non-null  int64 \n",
      " 58  GK Diving         18979 non-null  int64 \n",
      " 59  GK Handling       18979 non-null  int64 \n",
      " 60  GK Kicking        18979 non-null  int64 \n",
      " 61  GK Positioning    18979 non-null  int64 \n",
      " 62  GK Reflexes       18979 non-null  int64 \n",
      " 63  Total Stats       18979 non-null  int64 \n",
      " 64  Base Stats        18979 non-null  int64 \n",
      " 65  W/F               18979 non-null  object\n",
      " 66  SM                18979 non-null  object\n",
      " 67  A/W               18979 non-null  object\n",
      " 68  D/W               18979 non-null  object\n",
      " 69  IR                18979 non-null  object\n",
      " 70  PAC               18979 non-null  int64 \n",
      " 71  SHO               18979 non-null  int64 \n",
      " 72  PAS               18979 non-null  int64 \n",
      " 73  DRI               18979 non-null  int64 \n",
      " 74  DEF               18979 non-null  int64 \n",
      " 75  PHY               18979 non-null  int64 \n",
      " 76  Hits              18979 non-null  object\n",
      "dtypes: int64(55), object(22)\n",
      "memory usage: 11.1+ MB\n"
     ]
    }
   ],
   "source": [
    "# read the shape of the dataFrame\n",
    "df.shape\n",
    "df.info()"
   ]
  },
  {
   "cell_type": "code",
   "execution_count": 5,
   "metadata": {},
   "outputs": [
    {
     "data": {
      "text/plain": [
       "0     5'7\"\n",
       "1     6'2\"\n",
       "2     6'2\"\n",
       "3    5'11\"\n",
       "4     5'9\"\n",
       "5     6'0\"\n",
       "6    5'10\"\n",
       "7     6'3\"\n",
       "8     5'9\"\n",
       "9     5'9\"\n",
       "Name: Height, dtype: object"
      ]
     },
     "execution_count": 5,
     "metadata": {},
     "output_type": "execute_result"
    }
   ],
   "source": [
    "df['Height'].head(10)"
   ]
  },
  {
   "cell_type": "code",
   "execution_count": 7,
   "metadata": {},
   "outputs": [],
   "source": [
    "# create a backup column\n",
    "df['original_Height'] = df['Height']"
   ]
  },
  {
   "cell_type": "code",
   "execution_count": 9,
   "metadata": {},
   "outputs": [
    {
     "data": {
      "text/plain": [
       "(18979, 78)"
      ]
     },
     "execution_count": 9,
     "metadata": {},
     "output_type": "execute_result"
    }
   ],
   "source": [
    "df.shape"
   ]
  },
  {
   "cell_type": "code",
   "execution_count": 11,
   "metadata": {},
   "outputs": [
    {
     "data": {
      "text/plain": [
       "0"
      ]
     },
     "execution_count": 11,
     "metadata": {},
     "output_type": "execute_result"
    }
   ],
   "source": [
    "# check if any rows with missing value\n",
    "df['Height'].isnull().sum()"
   ]
  },
  {
   "cell_type": "code",
   "execution_count": 18,
   "metadata": {},
   "outputs": [
    {
     "data": {
      "text/plain": [
       "0    170.18\n",
       "1    187.96\n",
       "2    187.96\n",
       "3    180.34\n",
       "4    175.26\n",
       "5    182.88\n",
       "6    177.80\n",
       "7    190.50\n",
       "8    175.26\n",
       "9    175.26\n",
       "Name: Height, dtype: float64"
      ]
     },
     "execution_count": 18,
     "metadata": {},
     "output_type": "execute_result"
    }
   ],
   "source": [
    "# check if the height column contains \"'\"\n",
    "if \"'\" in df['Height'].values:\n",
    "# if yes , handling the data type is not object\n",
    "   if df['Height'].dtype != 'object':\n",
    "      df['Height'] = df['Height'].astype(str)\n",
    "\n",
    "      # convert the data type of Height to numeric(centimeters)\n",
    "      height_split = df['Height'].str.split(\"'\",expand=True)\n",
    "      feet = height_split[0].astype(int)\n",
    "      inches = height_split[1].str.replace('\"','').astype(int)\n",
    "      height_inches = feet * 12 + inches\n",
    "else:\n",
    "    height_inches = df['Height'].astype(float) / 2.54\n",
    "\n",
    "height_cm = height_inches * 2.54\n",
    "\n",
    "df['Height'] = height_cm\n",
    "\n",
    "df['Height'].head(10)"
   ]
  },
  {
   "cell_type": "code",
   "execution_count": 28,
   "metadata": {},
   "outputs": [
    {
     "data": {
      "text/plain": [
       "(18979, 77)"
      ]
     },
     "execution_count": 28,
     "metadata": {},
     "output_type": "execute_result"
    }
   ],
   "source": [
    "df['Height'].isnull().sum()\n",
    "df.drop('original_Height',axis=1,inplace=True)\n",
    "df.shape"
   ]
  },
  {
   "cell_type": "code",
   "execution_count": 22,
   "metadata": {},
   "outputs": [
    {
     "data": {
      "text/plain": [
       "0    159lbs\n",
       "1    183lbs\n",
       "2    192lbs\n",
       "3    154lbs\n",
       "4    150lbs\n",
       "5    176lbs\n",
       "6    161lbs\n",
       "7    201lbs\n",
       "8    157lbs\n",
       "9    152lbs\n",
       "Name: Weight, dtype: object"
      ]
     },
     "execution_count": 22,
     "metadata": {},
     "output_type": "execute_result"
    }
   ],
   "source": [
    "df['Weight'].head(10)"
   ]
  },
  {
   "cell_type": "code",
   "execution_count": 24,
   "metadata": {},
   "outputs": [
    {
     "data": {
      "text/plain": [
       "0"
      ]
     },
     "execution_count": 24,
     "metadata": {},
     "output_type": "execute_result"
    }
   ],
   "source": [
    "df['Weight'].isna().sum()"
   ]
  },
  {
   "cell_type": "code",
   "execution_count": 34,
   "metadata": {},
   "outputs": [
    {
     "data": {
      "text/plain": [
       "dtype('float64')"
      ]
     },
     "execution_count": 34,
     "metadata": {},
     "output_type": "execute_result"
    }
   ],
   "source": [
    "# convert object to numeric\n",
    "if df['Weight'].astype(str).str.contains('lbs').any():\n",
    "\n",
    "        df['Weight'] = df['Weight'].str.replace(\"lbs\",\"\")\n",
    "\n",
    "df['Weight'] = df['Weight'].astype(float)  \n",
    "\n",
    "df['Weight'].dtype"
   ]
  },
  {
   "cell_type": "code",
   "execution_count": 40,
   "metadata": {},
   "outputs": [
    {
     "data": {
      "text/plain": [
       "0    159.0\n",
       "1    183.0\n",
       "2    192.0\n",
       "3    154.0\n",
       "4    150.0\n",
       "Name: Weight(lbs), dtype: float64"
      ]
     },
     "execution_count": 40,
     "metadata": {},
     "output_type": "execute_result"
    }
   ],
   "source": [
    "# rename the column Weight name\n",
    "df.rename(columns={'Weight':'Weight(lbs)'},inplace=True)\n",
    "df['Weight(lbs)'].head()"
   ]
  },
  {
   "cell_type": "code",
   "execution_count": 47,
   "metadata": {},
   "outputs": [
    {
     "data": {
      "text/plain": [
       "(18979, 77)"
      ]
     },
     "execution_count": 47,
     "metadata": {},
     "output_type": "execute_result"
    }
   ],
   "source": [
    "df.shape"
   ]
  },
  {
   "cell_type": "code",
   "execution_count": 49,
   "metadata": {},
   "outputs": [
    {
     "name": "stdout",
     "output_type": "stream",
     "text": [
      "<class 'pandas.core.frame.DataFrame'>\n",
      "RangeIndex: 18979 entries, 0 to 18978\n",
      "Data columns (total 77 columns):\n",
      " #   Column            Non-Null Count  Dtype  \n",
      "---  ------            --------------  -----  \n",
      " 0   photoUrl          18979 non-null  object \n",
      " 1   LongName          18979 non-null  object \n",
      " 2   playerUrl         18979 non-null  object \n",
      " 3   Nationality       18979 non-null  object \n",
      " 4   Positions         18979 non-null  object \n",
      " 5   Name              18979 non-null  object \n",
      " 6   Age               18979 non-null  int64  \n",
      " 7   ↓OVA              18979 non-null  int64  \n",
      " 8   POT               18979 non-null  int64  \n",
      " 9   Team & Contract   18979 non-null  object \n",
      " 10  ID                18979 non-null  int64  \n",
      " 11  Height            18979 non-null  float64\n",
      " 12  Weight(lbs)       18979 non-null  float64\n",
      " 13  foot              18979 non-null  object \n",
      " 14  BOV               18979 non-null  int64  \n",
      " 15  BP                18979 non-null  object \n",
      " 16  Growth            18979 non-null  int64  \n",
      " 17  Joined            18979 non-null  object \n",
      " 18  Loan Date End     1013 non-null   object \n",
      " 19  Value             18979 non-null  object \n",
      " 20  Wage              18979 non-null  object \n",
      " 21  Release Clause    18979 non-null  object \n",
      " 22  Attacking         18979 non-null  int64  \n",
      " 23  Crossing          18979 non-null  int64  \n",
      " 24  Finishing         18979 non-null  int64  \n",
      " 25  Heading Accuracy  18979 non-null  int64  \n",
      " 26  Short Passing     18979 non-null  int64  \n",
      " 27  Volleys           18979 non-null  int64  \n",
      " 28  Skill             18979 non-null  int64  \n",
      " 29  Dribbling         18979 non-null  int64  \n",
      " 30  Curve             18979 non-null  int64  \n",
      " 31  FK Accuracy       18979 non-null  int64  \n",
      " 32  Long Passing      18979 non-null  int64  \n",
      " 33  Ball Control      18979 non-null  int64  \n",
      " 34  Movement          18979 non-null  int64  \n",
      " 35  Acceleration      18979 non-null  int64  \n",
      " 36  Sprint Speed      18979 non-null  int64  \n",
      " 37  Agility           18979 non-null  int64  \n",
      " 38  Reactions         18979 non-null  int64  \n",
      " 39  Balance           18979 non-null  int64  \n",
      " 40  Power             18979 non-null  int64  \n",
      " 41  Shot Power        18979 non-null  int64  \n",
      " 42  Jumping           18979 non-null  int64  \n",
      " 43  Stamina           18979 non-null  int64  \n",
      " 44  Strength          18979 non-null  int64  \n",
      " 45  Long Shots        18979 non-null  int64  \n",
      " 46  Mentality         18979 non-null  int64  \n",
      " 47  Aggression        18979 non-null  int64  \n",
      " 48  Interceptions     18979 non-null  int64  \n",
      " 49  Positioning       18979 non-null  int64  \n",
      " 50  Vision            18979 non-null  int64  \n",
      " 51  Penalties         18979 non-null  int64  \n",
      " 52  Composure         18979 non-null  int64  \n",
      " 53  Defending         18979 non-null  int64  \n",
      " 54  Marking           18979 non-null  int64  \n",
      " 55  Standing Tackle   18979 non-null  int64  \n",
      " 56  Sliding Tackle    18979 non-null  int64  \n",
      " 57  Goalkeeping       18979 non-null  int64  \n",
      " 58  GK Diving         18979 non-null  int64  \n",
      " 59  GK Handling       18979 non-null  int64  \n",
      " 60  GK Kicking        18979 non-null  int64  \n",
      " 61  GK Positioning    18979 non-null  int64  \n",
      " 62  GK Reflexes       18979 non-null  int64  \n",
      " 63  Total Stats       18979 non-null  int64  \n",
      " 64  Base Stats        18979 non-null  int64  \n",
      " 65  W/F               18979 non-null  object \n",
      " 66  SM                18979 non-null  object \n",
      " 67  A/W               18979 non-null  object \n",
      " 68  D/W               18979 non-null  object \n",
      " 69  IR                18979 non-null  object \n",
      " 70  PAC               18979 non-null  int64  \n",
      " 71  SHO               18979 non-null  int64  \n",
      " 72  PAS               18979 non-null  int64  \n",
      " 73  DRI               18979 non-null  int64  \n",
      " 74  DEF               18979 non-null  int64  \n",
      " 75  PHY               18979 non-null  int64  \n",
      " 76  Hits              18979 non-null  object \n",
      "dtypes: float64(2), int64(55), object(20)\n",
      "memory usage: 11.1+ MB\n"
     ]
    }
   ],
   "source": [
    "df.info()"
   ]
  },
  {
   "cell_type": "code",
   "execution_count": 52,
   "metadata": {},
   "outputs": [
    {
     "data": {
      "text/html": [
       "<div>\n",
       "<style scoped>\n",
       "    .dataframe tbody tr th:only-of-type {\n",
       "        vertical-align: middle;\n",
       "    }\n",
       "\n",
       "    .dataframe tbody tr th {\n",
       "        vertical-align: top;\n",
       "    }\n",
       "\n",
       "    .dataframe thead th {\n",
       "        text-align: right;\n",
       "    }\n",
       "</style>\n",
       "<table border=\"1\" class=\"dataframe\">\n",
       "  <thead>\n",
       "    <tr style=\"text-align: right;\">\n",
       "      <th></th>\n",
       "      <th>Height</th>\n",
       "      <th>Weight(lbs)</th>\n",
       "    </tr>\n",
       "  </thead>\n",
       "  <tbody>\n",
       "    <tr>\n",
       "      <th>0</th>\n",
       "      <td>170.18</td>\n",
       "      <td>159.0</td>\n",
       "    </tr>\n",
       "    <tr>\n",
       "      <th>1</th>\n",
       "      <td>187.96</td>\n",
       "      <td>183.0</td>\n",
       "    </tr>\n",
       "    <tr>\n",
       "      <th>2</th>\n",
       "      <td>187.96</td>\n",
       "      <td>192.0</td>\n",
       "    </tr>\n",
       "    <tr>\n",
       "      <th>3</th>\n",
       "      <td>180.34</td>\n",
       "      <td>154.0</td>\n",
       "    </tr>\n",
       "    <tr>\n",
       "      <th>4</th>\n",
       "      <td>175.26</td>\n",
       "      <td>150.0</td>\n",
       "    </tr>\n",
       "    <tr>\n",
       "      <th>5</th>\n",
       "      <td>182.88</td>\n",
       "      <td>176.0</td>\n",
       "    </tr>\n",
       "    <tr>\n",
       "      <th>6</th>\n",
       "      <td>177.80</td>\n",
       "      <td>161.0</td>\n",
       "    </tr>\n",
       "    <tr>\n",
       "      <th>7</th>\n",
       "      <td>190.50</td>\n",
       "      <td>201.0</td>\n",
       "    </tr>\n",
       "    <tr>\n",
       "      <th>8</th>\n",
       "      <td>175.26</td>\n",
       "      <td>157.0</td>\n",
       "    </tr>\n",
       "    <tr>\n",
       "      <th>9</th>\n",
       "      <td>175.26</td>\n",
       "      <td>152.0</td>\n",
       "    </tr>\n",
       "  </tbody>\n",
       "</table>\n",
       "</div>"
      ],
      "text/plain": [
       "   Height  Weight(lbs)\n",
       "0  170.18        159.0\n",
       "1  187.96        183.0\n",
       "2  187.96        192.0\n",
       "3  180.34        154.0\n",
       "4  175.26        150.0\n",
       "5  182.88        176.0\n",
       "6  177.80        161.0\n",
       "7  190.50        201.0\n",
       "8  175.26        157.0\n",
       "9  175.26        152.0"
      ]
     },
     "execution_count": 52,
     "metadata": {},
     "output_type": "execute_result"
    }
   ],
   "source": [
    "df[['Height','Weight(lbs)']].head(10)"
   ]
  },
  {
   "cell_type": "code",
   "execution_count": 56,
   "metadata": {},
   "outputs": [
    {
     "data": {
      "text/html": [
       "<div>\n",
       "<style scoped>\n",
       "    .dataframe tbody tr th:only-of-type {\n",
       "        vertical-align: middle;\n",
       "    }\n",
       "\n",
       "    .dataframe tbody tr th {\n",
       "        vertical-align: top;\n",
       "    }\n",
       "\n",
       "    .dataframe thead th {\n",
       "        text-align: right;\n",
       "    }\n",
       "</style>\n",
       "<table border=\"1\" class=\"dataframe\">\n",
       "  <thead>\n",
       "    <tr style=\"text-align: right;\">\n",
       "      <th></th>\n",
       "      <th>Height(cm)</th>\n",
       "      <th>Weight(lbs)</th>\n",
       "    </tr>\n",
       "  </thead>\n",
       "  <tbody>\n",
       "    <tr>\n",
       "      <th>0</th>\n",
       "      <td>170.18</td>\n",
       "      <td>159.0</td>\n",
       "    </tr>\n",
       "    <tr>\n",
       "      <th>1</th>\n",
       "      <td>187.96</td>\n",
       "      <td>183.0</td>\n",
       "    </tr>\n",
       "    <tr>\n",
       "      <th>2</th>\n",
       "      <td>187.96</td>\n",
       "      <td>192.0</td>\n",
       "    </tr>\n",
       "    <tr>\n",
       "      <th>3</th>\n",
       "      <td>180.34</td>\n",
       "      <td>154.0</td>\n",
       "    </tr>\n",
       "    <tr>\n",
       "      <th>4</th>\n",
       "      <td>175.26</td>\n",
       "      <td>150.0</td>\n",
       "    </tr>\n",
       "    <tr>\n",
       "      <th>5</th>\n",
       "      <td>182.88</td>\n",
       "      <td>176.0</td>\n",
       "    </tr>\n",
       "    <tr>\n",
       "      <th>6</th>\n",
       "      <td>177.80</td>\n",
       "      <td>161.0</td>\n",
       "    </tr>\n",
       "    <tr>\n",
       "      <th>7</th>\n",
       "      <td>190.50</td>\n",
       "      <td>201.0</td>\n",
       "    </tr>\n",
       "    <tr>\n",
       "      <th>8</th>\n",
       "      <td>175.26</td>\n",
       "      <td>157.0</td>\n",
       "    </tr>\n",
       "    <tr>\n",
       "      <th>9</th>\n",
       "      <td>175.26</td>\n",
       "      <td>152.0</td>\n",
       "    </tr>\n",
       "  </tbody>\n",
       "</table>\n",
       "</div>"
      ],
      "text/plain": [
       "   Height(cm)  Weight(lbs)\n",
       "0      170.18        159.0\n",
       "1      187.96        183.0\n",
       "2      187.96        192.0\n",
       "3      180.34        154.0\n",
       "4      175.26        150.0\n",
       "5      182.88        176.0\n",
       "6      177.80        161.0\n",
       "7      190.50        201.0\n",
       "8      175.26        157.0\n",
       "9      175.26        152.0"
      ]
     },
     "execution_count": 56,
     "metadata": {},
     "output_type": "execute_result"
    }
   ],
   "source": [
    "df.rename(columns={'Height':'Height(cm)'},inplace=True)\n",
    "df[['Height(cm)','Weight(lbs)']].head(10)"
   ]
  },
  {
   "cell_type": "code",
   "execution_count": 59,
   "metadata": {},
   "outputs": [
    {
     "data": {
      "text/plain": [
       "0     Jul 1, 2004\n",
       "1    Jul 10, 2018\n",
       "2    Jul 16, 2014\n",
       "3    Aug 30, 2015\n",
       "4     Aug 3, 2017\n",
       "5     Jul 1, 2014\n",
       "6     Jul 1, 2018\n",
       "7    Jul 19, 2018\n",
       "8     Jul 1, 2017\n",
       "9     Jul 1, 2016\n",
       "Name: Joined, dtype: object"
      ]
     },
     "execution_count": 59,
     "metadata": {},
     "output_type": "execute_result"
    }
   ],
   "source": [
    "df['Joined'].head(10)"
   ]
  },
  {
   "cell_type": "code",
   "execution_count": 61,
   "metadata": {},
   "outputs": [
    {
     "data": {
      "text/plain": [
       "0"
      ]
     },
     "execution_count": 61,
     "metadata": {},
     "output_type": "execute_result"
    }
   ],
   "source": [
    "df['Joined'].isnull().sum()"
   ]
  },
  {
   "cell_type": "code",
   "execution_count": 63,
   "metadata": {},
   "outputs": [],
   "source": [
    "# Convert column Joined to datetime format if it's not\n",
    "df['Joined'] = pd.to_datetime(df['Joined'])"
   ]
  },
  {
   "cell_type": "code",
   "execution_count": 65,
   "metadata": {},
   "outputs": [],
   "source": [
    "# Extract year,month,and day\n",
    "df['Year'] = df['Joined'].dt.year\n",
    "df['Month'] = df['Joined'].dt.month\n",
    "df['Day'] = df['Joined'].dt.day"
   ]
  },
  {
   "cell_type": "code",
   "execution_count": 67,
   "metadata": {},
   "outputs": [
    {
     "data": {
      "text/html": [
       "<div>\n",
       "<style scoped>\n",
       "    .dataframe tbody tr th:only-of-type {\n",
       "        vertical-align: middle;\n",
       "    }\n",
       "\n",
       "    .dataframe tbody tr th {\n",
       "        vertical-align: top;\n",
       "    }\n",
       "\n",
       "    .dataframe thead th {\n",
       "        text-align: right;\n",
       "    }\n",
       "</style>\n",
       "<table border=\"1\" class=\"dataframe\">\n",
       "  <thead>\n",
       "    <tr style=\"text-align: right;\">\n",
       "      <th></th>\n",
       "      <th>Year</th>\n",
       "      <th>Month</th>\n",
       "      <th>Day</th>\n",
       "    </tr>\n",
       "  </thead>\n",
       "  <tbody>\n",
       "    <tr>\n",
       "      <th>0</th>\n",
       "      <td>2004</td>\n",
       "      <td>7</td>\n",
       "      <td>1</td>\n",
       "    </tr>\n",
       "    <tr>\n",
       "      <th>1</th>\n",
       "      <td>2018</td>\n",
       "      <td>7</td>\n",
       "      <td>10</td>\n",
       "    </tr>\n",
       "    <tr>\n",
       "      <th>2</th>\n",
       "      <td>2014</td>\n",
       "      <td>7</td>\n",
       "      <td>16</td>\n",
       "    </tr>\n",
       "    <tr>\n",
       "      <th>3</th>\n",
       "      <td>2015</td>\n",
       "      <td>8</td>\n",
       "      <td>30</td>\n",
       "    </tr>\n",
       "    <tr>\n",
       "      <th>4</th>\n",
       "      <td>2017</td>\n",
       "      <td>8</td>\n",
       "      <td>3</td>\n",
       "    </tr>\n",
       "    <tr>\n",
       "      <th>5</th>\n",
       "      <td>2014</td>\n",
       "      <td>7</td>\n",
       "      <td>1</td>\n",
       "    </tr>\n",
       "    <tr>\n",
       "      <th>6</th>\n",
       "      <td>2018</td>\n",
       "      <td>7</td>\n",
       "      <td>1</td>\n",
       "    </tr>\n",
       "    <tr>\n",
       "      <th>7</th>\n",
       "      <td>2018</td>\n",
       "      <td>7</td>\n",
       "      <td>19</td>\n",
       "    </tr>\n",
       "    <tr>\n",
       "      <th>8</th>\n",
       "      <td>2017</td>\n",
       "      <td>7</td>\n",
       "      <td>1</td>\n",
       "    </tr>\n",
       "    <tr>\n",
       "      <th>9</th>\n",
       "      <td>2016</td>\n",
       "      <td>7</td>\n",
       "      <td>1</td>\n",
       "    </tr>\n",
       "  </tbody>\n",
       "</table>\n",
       "</div>"
      ],
      "text/plain": [
       "   Year  Month  Day\n",
       "0  2004      7    1\n",
       "1  2018      7   10\n",
       "2  2014      7   16\n",
       "3  2015      8   30\n",
       "4  2017      8    3\n",
       "5  2014      7    1\n",
       "6  2018      7    1\n",
       "7  2018      7   19\n",
       "8  2017      7    1\n",
       "9  2016      7    1"
      ]
     },
     "execution_count": 67,
     "metadata": {},
     "output_type": "execute_result"
    }
   ],
   "source": [
    "df[['Year','Month','Day']].head(10)"
   ]
  },
  {
   "cell_type": "code",
   "execution_count": 72,
   "metadata": {},
   "outputs": [
    {
     "name": "stdout",
     "output_type": "stream",
     "text": [
      "<class 'pandas.core.frame.DataFrame'>\n",
      "RangeIndex: 18979 entries, 0 to 18978\n",
      "Data columns (total 79 columns):\n",
      " #   Column            Non-Null Count  Dtype  \n",
      "---  ------            --------------  -----  \n",
      " 0   photoUrl          18979 non-null  object \n",
      " 1   LongName          18979 non-null  object \n",
      " 2   playerUrl         18979 non-null  object \n",
      " 3   Nationality       18979 non-null  object \n",
      " 4   Positions         18979 non-null  object \n",
      " 5   Name              18979 non-null  object \n",
      " 6   Age               18979 non-null  int64  \n",
      " 7   ↓OVA              18979 non-null  int64  \n",
      " 8   POT               18979 non-null  int64  \n",
      " 9   Team & Contract   18979 non-null  object \n",
      " 10  ID                18979 non-null  int64  \n",
      " 11  Height(cm)        18979 non-null  float64\n",
      " 12  Weight(lbs)       18979 non-null  float64\n",
      " 13  foot              18979 non-null  object \n",
      " 14  BOV               18979 non-null  int64  \n",
      " 15  BP                18979 non-null  object \n",
      " 16  Growth            18979 non-null  int64  \n",
      " 17  Loan Date End     1013 non-null   object \n",
      " 18  Value             18979 non-null  object \n",
      " 19  Wage              18979 non-null  object \n",
      " 20  Release Clause    18979 non-null  object \n",
      " 21  Attacking         18979 non-null  int64  \n",
      " 22  Crossing          18979 non-null  int64  \n",
      " 23  Finishing         18979 non-null  int64  \n",
      " 24  Heading Accuracy  18979 non-null  int64  \n",
      " 25  Short Passing     18979 non-null  int64  \n",
      " 26  Volleys           18979 non-null  int64  \n",
      " 27  Skill             18979 non-null  int64  \n",
      " 28  Dribbling         18979 non-null  int64  \n",
      " 29  Curve             18979 non-null  int64  \n",
      " 30  FK Accuracy       18979 non-null  int64  \n",
      " 31  Long Passing      18979 non-null  int64  \n",
      " 32  Ball Control      18979 non-null  int64  \n",
      " 33  Movement          18979 non-null  int64  \n",
      " 34  Acceleration      18979 non-null  int64  \n",
      " 35  Sprint Speed      18979 non-null  int64  \n",
      " 36  Agility           18979 non-null  int64  \n",
      " 37  Reactions         18979 non-null  int64  \n",
      " 38  Balance           18979 non-null  int64  \n",
      " 39  Power             18979 non-null  int64  \n",
      " 40  Shot Power        18979 non-null  int64  \n",
      " 41  Jumping           18979 non-null  int64  \n",
      " 42  Stamina           18979 non-null  int64  \n",
      " 43  Strength          18979 non-null  int64  \n",
      " 44  Long Shots        18979 non-null  int64  \n",
      " 45  Mentality         18979 non-null  int64  \n",
      " 46  Aggression        18979 non-null  int64  \n",
      " 47  Interceptions     18979 non-null  int64  \n",
      " 48  Positioning       18979 non-null  int64  \n",
      " 49  Vision            18979 non-null  int64  \n",
      " 50  Penalties         18979 non-null  int64  \n",
      " 51  Composure         18979 non-null  int64  \n",
      " 52  Defending         18979 non-null  int64  \n",
      " 53  Marking           18979 non-null  int64  \n",
      " 54  Standing Tackle   18979 non-null  int64  \n",
      " 55  Sliding Tackle    18979 non-null  int64  \n",
      " 56  Goalkeeping       18979 non-null  int64  \n",
      " 57  GK Diving         18979 non-null  int64  \n",
      " 58  GK Handling       18979 non-null  int64  \n",
      " 59  GK Kicking        18979 non-null  int64  \n",
      " 60  GK Positioning    18979 non-null  int64  \n",
      " 61  GK Reflexes       18979 non-null  int64  \n",
      " 62  Total Stats       18979 non-null  int64  \n",
      " 63  Base Stats        18979 non-null  int64  \n",
      " 64  W/F               18979 non-null  object \n",
      " 65  SM                18979 non-null  object \n",
      " 66  A/W               18979 non-null  object \n",
      " 67  D/W               18979 non-null  object \n",
      " 68  IR                18979 non-null  object \n",
      " 69  PAC               18979 non-null  int64  \n",
      " 70  SHO               18979 non-null  int64  \n",
      " 71  PAS               18979 non-null  int64  \n",
      " 72  DRI               18979 non-null  int64  \n",
      " 73  DEF               18979 non-null  int64  \n",
      " 74  PHY               18979 non-null  int64  \n",
      " 75  Hits              18979 non-null  object \n",
      " 76  Year              18979 non-null  int32  \n",
      " 77  Month             18979 non-null  int32  \n",
      " 78  Day               18979 non-null  int32  \n",
      "dtypes: float64(2), int32(3), int64(55), object(19)\n",
      "memory usage: 11.2+ MB\n"
     ]
    }
   ],
   "source": [
    "df.info()"
   ]
  },
  {
   "cell_type": "code",
   "execution_count": 76,
   "metadata": {},
   "outputs": [
    {
     "data": {
      "text/html": [
       "<div>\n",
       "<style scoped>\n",
       "    .dataframe tbody tr th:only-of-type {\n",
       "        vertical-align: middle;\n",
       "    }\n",
       "\n",
       "    .dataframe tbody tr th {\n",
       "        vertical-align: top;\n",
       "    }\n",
       "\n",
       "    .dataframe thead th {\n",
       "        text-align: right;\n",
       "    }\n",
       "</style>\n",
       "<table border=\"1\" class=\"dataframe\">\n",
       "  <thead>\n",
       "    <tr style=\"text-align: right;\">\n",
       "      <th></th>\n",
       "      <th>Value</th>\n",
       "      <th>Wage</th>\n",
       "      <th>Release Clause</th>\n",
       "    </tr>\n",
       "  </thead>\n",
       "  <tbody>\n",
       "    <tr>\n",
       "      <th>0</th>\n",
       "      <td>€67.5M</td>\n",
       "      <td>€560K</td>\n",
       "      <td>€138.4M</td>\n",
       "    </tr>\n",
       "    <tr>\n",
       "      <th>1</th>\n",
       "      <td>€46M</td>\n",
       "      <td>€220K</td>\n",
       "      <td>€75.9M</td>\n",
       "    </tr>\n",
       "    <tr>\n",
       "      <th>2</th>\n",
       "      <td>€75M</td>\n",
       "      <td>€125K</td>\n",
       "      <td>€159.4M</td>\n",
       "    </tr>\n",
       "    <tr>\n",
       "      <th>3</th>\n",
       "      <td>€87M</td>\n",
       "      <td>€370K</td>\n",
       "      <td>€161M</td>\n",
       "    </tr>\n",
       "    <tr>\n",
       "      <th>4</th>\n",
       "      <td>€90M</td>\n",
       "      <td>€270K</td>\n",
       "      <td>€166.5M</td>\n",
       "    </tr>\n",
       "    <tr>\n",
       "      <th>5</th>\n",
       "      <td>€80M</td>\n",
       "      <td>€240K</td>\n",
       "      <td>€132M</td>\n",
       "    </tr>\n",
       "    <tr>\n",
       "      <th>6</th>\n",
       "      <td>€105.5M</td>\n",
       "      <td>€160K</td>\n",
       "      <td>€203.1M</td>\n",
       "    </tr>\n",
       "    <tr>\n",
       "      <th>7</th>\n",
       "      <td>€62.5M</td>\n",
       "      <td>€160K</td>\n",
       "      <td>€120.3M</td>\n",
       "    </tr>\n",
       "    <tr>\n",
       "      <th>8</th>\n",
       "      <td>€78M</td>\n",
       "      <td>€250K</td>\n",
       "      <td>€144.3M</td>\n",
       "    </tr>\n",
       "    <tr>\n",
       "      <th>9</th>\n",
       "      <td>€78M</td>\n",
       "      <td>€250K</td>\n",
       "      <td>€144.3M</td>\n",
       "    </tr>\n",
       "  </tbody>\n",
       "</table>\n",
       "</div>"
      ],
      "text/plain": [
       "     Value   Wage Release Clause\n",
       "0   €67.5M  €560K        €138.4M\n",
       "1     €46M  €220K         €75.9M\n",
       "2     €75M  €125K        €159.4M\n",
       "3     €87M  €370K          €161M\n",
       "4     €90M  €270K        €166.5M\n",
       "5     €80M  €240K          €132M\n",
       "6  €105.5M  €160K        €203.1M\n",
       "7   €62.5M  €160K        €120.3M\n",
       "8     €78M  €250K        €144.3M\n",
       "9     €78M  €250K        €144.3M"
      ]
     },
     "execution_count": 76,
     "metadata": {},
     "output_type": "execute_result"
    }
   ],
   "source": [
    "df[['Value','Wage','Release Clause']].head(10)"
   ]
  },
  {
   "cell_type": "code",
   "execution_count": 78,
   "metadata": {},
   "outputs": [
    {
     "data": {
      "text/plain": [
       "Value             0\n",
       "Wage              0\n",
       "Release Clause    0\n",
       "dtype: int64"
      ]
     },
     "execution_count": 78,
     "metadata": {},
     "output_type": "execute_result"
    }
   ],
   "source": [
    "# check for missing values\n",
    "df[['Value','Wage','Release Clause']].isnull().sum()"
   ]
  },
  {
   "cell_type": "code",
   "execution_count": 80,
   "metadata": {},
   "outputs": [
    {
     "name": "stdout",
     "output_type": "stream",
     "text": [
      "<class 'pandas.core.frame.DataFrame'>\n",
      "RangeIndex: 18979 entries, 0 to 18978\n",
      "Data columns (total 3 columns):\n",
      " #   Column          Non-Null Count  Dtype \n",
      "---  ------          --------------  ----- \n",
      " 0   Value           18979 non-null  object\n",
      " 1   Wage            18979 non-null  object\n",
      " 2   Release Clause  18979 non-null  object\n",
      "dtypes: object(3)\n",
      "memory usage: 444.9+ KB\n"
     ]
    }
   ],
   "source": [
    "df[['Value','Wage','Release Clause']].info()"
   ]
  },
  {
   "cell_type": "code",
   "execution_count": null,
   "metadata": {},
   "outputs": [],
   "source": []
  }
 ],
 "metadata": {
  "kernelspec": {
   "display_name": "Python 3",
   "language": "python",
   "name": "python3"
  },
  "language_info": {
   "codemirror_mode": {
    "name": "ipython",
    "version": 3
   },
   "file_extension": ".py",
   "mimetype": "text/x-python",
   "name": "python",
   "nbconvert_exporter": "python",
   "pygments_lexer": "ipython3",
   "version": "3.12.2"
  }
 },
 "nbformat": 4,
 "nbformat_minor": 2
}
